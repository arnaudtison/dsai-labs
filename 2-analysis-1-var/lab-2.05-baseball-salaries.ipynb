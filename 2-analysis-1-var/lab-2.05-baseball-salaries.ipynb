{
  "cells": [
    {
      "cell_type": "markdown",
      "metadata": {
        "id": "dYTxJWJG5miJ"
      },
      "source": [
        "# Lab 2.05 - Univariate Analysis\n"
      ]
    },
    {
      "cell_type": "code",
      "execution_count": 1,
      "metadata": {
        "id": "MvwMKfrI8X-p"
      },
      "outputs": [],
      "source": [
        "# Importing the necessary packages\n",
        "import numpy as np                                  # \"Scientific computing\"\n",
        "import scipy.stats as stats                         # Statistical tests\n",
        "\n",
        "import pandas as pd                                 # Data Frame\n",
        "from pandas.api.types import CategoricalDtype\n",
        "\n",
        "import matplotlib.pyplot as plt                     # Basic visualisation\n",
        "from statsmodels.graphics.mosaicplot import mosaic  # Mosaic diagram\n",
        "import seaborn as sns                               # Advanced data visualisation"
      ]
    },
    {
      "cell_type": "markdown",
      "metadata": {
        "id": "M09gxg4SK4CJ"
      },
      "source": [
        "## Exercise 5 - Baseball Salaries\n",
        "\n",
        "The file Baseball Salaries contains data on 868 Major League Baseball (MLB) players in the 2011 season. There are four variables: the player's name, team, position, and salary. How can these 868 salaries be summarized?\n",
        "\n",
        "- Calculate the mean, the median and the mode (i.e. measures of central tendency)\n",
        "- Calculate the minimum, maximum, quartiles\n",
        "- Calculate the range, interquartile range, variance, standard deviation (i.e. measures of variability)\n",
        "- Calculate the skewness and Kurtosis (i.e. measures of shape)\n",
        "- Draw a histogram. Use 11 bins with equal width. Does it indicate skewness?\n",
        "- Draw a boxplot. Does it indicate skewness?"
      ]
    },
    {
      "cell_type": "code",
      "execution_count": 2,
      "metadata": {
        "colab": {
          "base_uri": "https://localhost:8080/",
          "height": 206
        },
        "id": "aFO1zL_bZ51g",
        "outputId": "9584e928-63e0-4471-88fd-e39a7afa2df8"
      },
      "outputs": [
        {
          "output_type": "execute_result",
          "data": {
            "text/plain": [
              "            Player                 Team Position    Salary\n",
              "0     A.J. Burnett     New York Yankees  Pitcher  16500000\n",
              "1       A.J. Ellis  Los Angeles Dodgers  Catcher    421000\n",
              "2  A.J. Pierzynski    Chicago White Sox  Catcher   2000000\n",
              "3       Aaron Cook     Colorado Rockies  Pitcher   9875000\n",
              "4       Aaron Crow   Kansas City Royals  Pitcher   1400000"
            ],
            "text/html": [
              "\n",
              "  <div id=\"df-30d770fb-b4e4-4fb7-9bac-83f507df9398\" class=\"colab-df-container\">\n",
              "    <div>\n",
              "<style scoped>\n",
              "    .dataframe tbody tr th:only-of-type {\n",
              "        vertical-align: middle;\n",
              "    }\n",
              "\n",
              "    .dataframe tbody tr th {\n",
              "        vertical-align: top;\n",
              "    }\n",
              "\n",
              "    .dataframe thead th {\n",
              "        text-align: right;\n",
              "    }\n",
              "</style>\n",
              "<table border=\"1\" class=\"dataframe\">\n",
              "  <thead>\n",
              "    <tr style=\"text-align: right;\">\n",
              "      <th></th>\n",
              "      <th>Player</th>\n",
              "      <th>Team</th>\n",
              "      <th>Position</th>\n",
              "      <th>Salary</th>\n",
              "    </tr>\n",
              "  </thead>\n",
              "  <tbody>\n",
              "    <tr>\n",
              "      <th>0</th>\n",
              "      <td>A.J. Burnett</td>\n",
              "      <td>New York Yankees</td>\n",
              "      <td>Pitcher</td>\n",
              "      <td>16500000</td>\n",
              "    </tr>\n",
              "    <tr>\n",
              "      <th>1</th>\n",
              "      <td>A.J. Ellis</td>\n",
              "      <td>Los Angeles Dodgers</td>\n",
              "      <td>Catcher</td>\n",
              "      <td>421000</td>\n",
              "    </tr>\n",
              "    <tr>\n",
              "      <th>2</th>\n",
              "      <td>A.J. Pierzynski</td>\n",
              "      <td>Chicago White Sox</td>\n",
              "      <td>Catcher</td>\n",
              "      <td>2000000</td>\n",
              "    </tr>\n",
              "    <tr>\n",
              "      <th>3</th>\n",
              "      <td>Aaron Cook</td>\n",
              "      <td>Colorado Rockies</td>\n",
              "      <td>Pitcher</td>\n",
              "      <td>9875000</td>\n",
              "    </tr>\n",
              "    <tr>\n",
              "      <th>4</th>\n",
              "      <td>Aaron Crow</td>\n",
              "      <td>Kansas City Royals</td>\n",
              "      <td>Pitcher</td>\n",
              "      <td>1400000</td>\n",
              "    </tr>\n",
              "  </tbody>\n",
              "</table>\n",
              "</div>\n",
              "    <div class=\"colab-df-buttons\">\n",
              "\n",
              "  <div class=\"colab-df-container\">\n",
              "    <button class=\"colab-df-convert\" onclick=\"convertToInteractive('df-30d770fb-b4e4-4fb7-9bac-83f507df9398')\"\n",
              "            title=\"Convert this dataframe to an interactive table.\"\n",
              "            style=\"display:none;\">\n",
              "\n",
              "  <svg xmlns=\"http://www.w3.org/2000/svg\" height=\"24px\" viewBox=\"0 -960 960 960\">\n",
              "    <path d=\"M120-120v-720h720v720H120Zm60-500h600v-160H180v160Zm220 220h160v-160H400v160Zm0 220h160v-160H400v160ZM180-400h160v-160H180v160Zm440 0h160v-160H620v160ZM180-180h160v-160H180v160Zm440 0h160v-160H620v160Z\"/>\n",
              "  </svg>\n",
              "    </button>\n",
              "\n",
              "  <style>\n",
              "    .colab-df-container {\n",
              "      display:flex;\n",
              "      gap: 12px;\n",
              "    }\n",
              "\n",
              "    .colab-df-convert {\n",
              "      background-color: #E8F0FE;\n",
              "      border: none;\n",
              "      border-radius: 50%;\n",
              "      cursor: pointer;\n",
              "      display: none;\n",
              "      fill: #1967D2;\n",
              "      height: 32px;\n",
              "      padding: 0 0 0 0;\n",
              "      width: 32px;\n",
              "    }\n",
              "\n",
              "    .colab-df-convert:hover {\n",
              "      background-color: #E2EBFA;\n",
              "      box-shadow: 0px 1px 2px rgba(60, 64, 67, 0.3), 0px 1px 3px 1px rgba(60, 64, 67, 0.15);\n",
              "      fill: #174EA6;\n",
              "    }\n",
              "\n",
              "    .colab-df-buttons div {\n",
              "      margin-bottom: 4px;\n",
              "    }\n",
              "\n",
              "    [theme=dark] .colab-df-convert {\n",
              "      background-color: #3B4455;\n",
              "      fill: #D2E3FC;\n",
              "    }\n",
              "\n",
              "    [theme=dark] .colab-df-convert:hover {\n",
              "      background-color: #434B5C;\n",
              "      box-shadow: 0px 1px 3px 1px rgba(0, 0, 0, 0.15);\n",
              "      filter: drop-shadow(0px 1px 2px rgba(0, 0, 0, 0.3));\n",
              "      fill: #FFFFFF;\n",
              "    }\n",
              "  </style>\n",
              "\n",
              "    <script>\n",
              "      const buttonEl =\n",
              "        document.querySelector('#df-30d770fb-b4e4-4fb7-9bac-83f507df9398 button.colab-df-convert');\n",
              "      buttonEl.style.display =\n",
              "        google.colab.kernel.accessAllowed ? 'block' : 'none';\n",
              "\n",
              "      async function convertToInteractive(key) {\n",
              "        const element = document.querySelector('#df-30d770fb-b4e4-4fb7-9bac-83f507df9398');\n",
              "        const dataTable =\n",
              "          await google.colab.kernel.invokeFunction('convertToInteractive',\n",
              "                                                    [key], {});\n",
              "        if (!dataTable) return;\n",
              "\n",
              "        const docLinkHtml = 'Like what you see? Visit the ' +\n",
              "          '<a target=\"_blank\" href=https://colab.research.google.com/notebooks/data_table.ipynb>data table notebook</a>'\n",
              "          + ' to learn more about interactive tables.';\n",
              "        element.innerHTML = '';\n",
              "        dataTable['output_type'] = 'display_data';\n",
              "        await google.colab.output.renderOutput(dataTable, element);\n",
              "        const docLink = document.createElement('div');\n",
              "        docLink.innerHTML = docLinkHtml;\n",
              "        element.appendChild(docLink);\n",
              "      }\n",
              "    </script>\n",
              "  </div>\n",
              "\n",
              "\n",
              "<div id=\"df-a5706dc4-7813-4f36-9144-4d16d6d427b7\">\n",
              "  <button class=\"colab-df-quickchart\" onclick=\"quickchart('df-a5706dc4-7813-4f36-9144-4d16d6d427b7')\"\n",
              "            title=\"Suggest charts\"\n",
              "            style=\"display:none;\">\n",
              "\n",
              "<svg xmlns=\"http://www.w3.org/2000/svg\" height=\"24px\"viewBox=\"0 0 24 24\"\n",
              "     width=\"24px\">\n",
              "    <g>\n",
              "        <path d=\"M19 3H5c-1.1 0-2 .9-2 2v14c0 1.1.9 2 2 2h14c1.1 0 2-.9 2-2V5c0-1.1-.9-2-2-2zM9 17H7v-7h2v7zm4 0h-2V7h2v10zm4 0h-2v-4h2v4z\"/>\n",
              "    </g>\n",
              "</svg>\n",
              "  </button>\n",
              "\n",
              "<style>\n",
              "  .colab-df-quickchart {\n",
              "      --bg-color: #E8F0FE;\n",
              "      --fill-color: #1967D2;\n",
              "      --hover-bg-color: #E2EBFA;\n",
              "      --hover-fill-color: #174EA6;\n",
              "      --disabled-fill-color: #AAA;\n",
              "      --disabled-bg-color: #DDD;\n",
              "  }\n",
              "\n",
              "  [theme=dark] .colab-df-quickchart {\n",
              "      --bg-color: #3B4455;\n",
              "      --fill-color: #D2E3FC;\n",
              "      --hover-bg-color: #434B5C;\n",
              "      --hover-fill-color: #FFFFFF;\n",
              "      --disabled-bg-color: #3B4455;\n",
              "      --disabled-fill-color: #666;\n",
              "  }\n",
              "\n",
              "  .colab-df-quickchart {\n",
              "    background-color: var(--bg-color);\n",
              "    border: none;\n",
              "    border-radius: 50%;\n",
              "    cursor: pointer;\n",
              "    display: none;\n",
              "    fill: var(--fill-color);\n",
              "    height: 32px;\n",
              "    padding: 0;\n",
              "    width: 32px;\n",
              "  }\n",
              "\n",
              "  .colab-df-quickchart:hover {\n",
              "    background-color: var(--hover-bg-color);\n",
              "    box-shadow: 0 1px 2px rgba(60, 64, 67, 0.3), 0 1px 3px 1px rgba(60, 64, 67, 0.15);\n",
              "    fill: var(--button-hover-fill-color);\n",
              "  }\n",
              "\n",
              "  .colab-df-quickchart-complete:disabled,\n",
              "  .colab-df-quickchart-complete:disabled:hover {\n",
              "    background-color: var(--disabled-bg-color);\n",
              "    fill: var(--disabled-fill-color);\n",
              "    box-shadow: none;\n",
              "  }\n",
              "\n",
              "  .colab-df-spinner {\n",
              "    border: 2px solid var(--fill-color);\n",
              "    border-color: transparent;\n",
              "    border-bottom-color: var(--fill-color);\n",
              "    animation:\n",
              "      spin 1s steps(1) infinite;\n",
              "  }\n",
              "\n",
              "  @keyframes spin {\n",
              "    0% {\n",
              "      border-color: transparent;\n",
              "      border-bottom-color: var(--fill-color);\n",
              "      border-left-color: var(--fill-color);\n",
              "    }\n",
              "    20% {\n",
              "      border-color: transparent;\n",
              "      border-left-color: var(--fill-color);\n",
              "      border-top-color: var(--fill-color);\n",
              "    }\n",
              "    30% {\n",
              "      border-color: transparent;\n",
              "      border-left-color: var(--fill-color);\n",
              "      border-top-color: var(--fill-color);\n",
              "      border-right-color: var(--fill-color);\n",
              "    }\n",
              "    40% {\n",
              "      border-color: transparent;\n",
              "      border-right-color: var(--fill-color);\n",
              "      border-top-color: var(--fill-color);\n",
              "    }\n",
              "    60% {\n",
              "      border-color: transparent;\n",
              "      border-right-color: var(--fill-color);\n",
              "    }\n",
              "    80% {\n",
              "      border-color: transparent;\n",
              "      border-right-color: var(--fill-color);\n",
              "      border-bottom-color: var(--fill-color);\n",
              "    }\n",
              "    90% {\n",
              "      border-color: transparent;\n",
              "      border-bottom-color: var(--fill-color);\n",
              "    }\n",
              "  }\n",
              "</style>\n",
              "\n",
              "  <script>\n",
              "    async function quickchart(key) {\n",
              "      const quickchartButtonEl =\n",
              "        document.querySelector('#' + key + ' button');\n",
              "      quickchartButtonEl.disabled = true;  // To prevent multiple clicks.\n",
              "      quickchartButtonEl.classList.add('colab-df-spinner');\n",
              "      try {\n",
              "        const charts = await google.colab.kernel.invokeFunction(\n",
              "            'suggestCharts', [key], {});\n",
              "      } catch (error) {\n",
              "        console.error('Error during call to suggestCharts:', error);\n",
              "      }\n",
              "      quickchartButtonEl.classList.remove('colab-df-spinner');\n",
              "      quickchartButtonEl.classList.add('colab-df-quickchart-complete');\n",
              "    }\n",
              "    (() => {\n",
              "      let quickchartButtonEl =\n",
              "        document.querySelector('#df-a5706dc4-7813-4f36-9144-4d16d6d427b7 button');\n",
              "      quickchartButtonEl.style.display =\n",
              "        google.colab.kernel.accessAllowed ? 'block' : 'none';\n",
              "    })();\n",
              "  </script>\n",
              "</div>\n",
              "\n",
              "    </div>\n",
              "  </div>\n"
            ],
            "application/vnd.google.colaboratory.intrinsic+json": {
              "type": "dataframe",
              "variable_name": "bb",
              "summary": "{\n  \"name\": \"bb\",\n  \"rows\": 843,\n  \"fields\": [\n    {\n      \"column\": \"Player\",\n      \"properties\": {\n        \"dtype\": \"string\",\n        \"num_unique_values\": 843,\n        \"samples\": [\n          \"Jose Tabata\",\n          \"Dan Wheeler\",\n          \"Michael Martinez\"\n        ],\n        \"semantic_type\": \"\",\n        \"description\": \"\"\n      }\n    },\n    {\n      \"column\": \"Team\",\n      \"properties\": {\n        \"dtype\": \"category\",\n        \"num_unique_values\": 30,\n        \"samples\": [\n          \"Philadelphia Phillies\",\n          \"St. Louis Cardinals\",\n          \"Chicago Cubs\"\n        ],\n        \"semantic_type\": \"\",\n        \"description\": \"\"\n      }\n    },\n    {\n      \"column\": \"Position\",\n      \"properties\": {\n        \"dtype\": \"category\",\n        \"num_unique_values\": 9,\n        \"samples\": [\n          \"Third Baseman\",\n          \"Catcher\",\n          \"Shortstop\"\n        ],\n        \"semantic_type\": \"\",\n        \"description\": \"\"\n      }\n    },\n    {\n      \"column\": \"Salary\",\n      \"properties\": {\n        \"dtype\": \"number\",\n        \"std\": 4534742,\n        \"min\": 414000,\n        \"max\": 32000000,\n        \"num_unique_values\": 371,\n        \"samples\": [\n          1600000,\n          19000000,\n          5150000\n        ],\n        \"semantic_type\": \"\",\n        \"description\": \"\"\n      }\n    }\n  ]\n}"
            }
          },
          "metadata": {},
          "execution_count": 2
        }
      ],
      "source": [
        "bb = pd.read_csv('https://raw.githubusercontent.com/HoGentTIN/dsai-labs/main/data/Baseball%20Salaries%202011.csv', delimiter=\";\")\n",
        "# Show the first few records of the Data Frame\n",
        "bb.head()"
      ]
    },
    {
      "cell_type": "code",
      "execution_count": 4,
      "metadata": {
        "id": "BkLIdzVpbpdg",
        "colab": {
          "base_uri": "https://localhost:8080/"
        },
        "outputId": "2cc42e5e-973c-4a49-d085-fe073b780cf4"
      },
      "outputs": [
        {
          "output_type": "stream",
          "name": "stdout",
          "text": [
            "Mean Salary: 3305054.674970344\n",
            "Median Salary: 1175000.0\n",
            "Mode Salary: 414000\n"
          ]
        }
      ],
      "source": [
        "# Calculate the mean\n",
        "mean_salary = bb['Salary'].mean()\n",
        "print(f\"Mean Salary: {mean_salary}\")\n",
        "\n",
        "# Calculate the median\n",
        "median_salary = bb['Salary'].median()\n",
        "print(f\"Median Salary: {median_salary}\")\n",
        "\n",
        "# Calculate the mode\n",
        "mode_salary = bb['Salary'].mode()[0]  # mode() returns a Series, so we take the first element\n",
        "print(f\"Mode Salary: {mode_salary}\")\n",
        "\n",
        "# Calculate the minimum and maximum\n",
        "min_salary = bb['Salary'].min()\n",
        "max_salary = bb['Salary'].max()\n",
        "print(f\"Minimum Salary: {min_salary}\")\n",
        "print(f\"Maximum Salary: {max_salary}\")\n",
        "\n",
        "# Calculate the quartiles\n",
        "q1 = bb['Salary'].quantile(0.25)\n",
        "q3 = bb['Salary'].quantile(0.75)\n",
        "print(f\"First Quartile (Q1): {q1}\")\n",
        "print(f\"Third Quartile (Q3): {q3}\")\n",
        "\n",
        "# Calculate the range and interquartile range (IQR)\n",
        "salary_range = max_salary - min_salary\n",
        "iqr = q3 - q1\n",
        "print(f\"Salary Range: {salary_range}\")\n",
        "print(f\"Interquartile Range (IQR): {iqr}\")\n",
        "\n",
        "# Calculate the variance and standard deviation\n",
        "variance_salary = bb['Salary'].var()\n",
        "std_salary = bb['Salary'].std()\n",
        "print(f\"Variance of Salary: {variance_salary}\")\n",
        "print(f\"Standard Deviation of Salary: {std_salary}\")\n"
      ]
    },
    {
      "cell_type": "markdown",
      "metadata": {
        "id": "4tFeDWtatwuf"
      },
      "source": [
        "![image.png](data:image/png;base64,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)"
      ]
    },
    {
      "cell_type": "code",
      "execution_count": 5,
      "metadata": {
        "id": "lV2zlm4lc3FW",
        "colab": {
          "base_uri": "https://localhost:8080/",
          "height": 472
        },
        "outputId": "9754a528-2326-4fdb-f59c-167a5d5c2139"
      },
      "outputs": [
        {
          "output_type": "display_data",
          "data": {
            "text/plain": [
              "<Figure size 640x480 with 1 Axes>"
            ],
            "image/png": "[encoded data removed]"
          },
          "metadata": {}
        }
      ],
      "source": [
        "# Draw a histogram with 11 bins\n",
        "plt.hist(bb['Salary'], bins=11)\n",
        "plt.xlabel(\"Salary\")\n",
        "plt.ylabel(\"Frequency\")\n",
        "plt.title(\"Histogram of Baseball Salaries\")\n",
        "plt.show()"
      ]
    },
    {
      "cell_type": "markdown",
      "metadata": {
        "id": "0ztB0oHPtpEf"
      },
      "source": [
        "![image.png](data:image/png;base64,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)"
      ]
    },
    {
      "cell_type": "code",
      "execution_count": 6,
      "metadata": {
        "id": "k-w4eyABcp-I",
        "colab": {
          "base_uri": "https://localhost:8080/",
          "height": 472
        },
        "outputId": "597ecf8e-e5bc-4c53-fda5-c30a4c5180d9"
      },
      "outputs": [
        {
          "output_type": "display_data",
          "data": {
            "text/plain": [
              "<Figure size 640x480 with 1 Axes>"
            ],
            "image/png": "[encoded data removed]"
          },
          "metadata": {}
        }
      ],
      "source": [
        "# Draw a boxplot\n",
        "sns.boxplot(x=bb['Salary'])\n",
        "plt.xlabel(\"Salary\")\n",
        "plt.title(\"Boxplot of Baseball Salaries\")\n",
        "plt.show()"
      ]
    },
    {
      "cell_type": "markdown",
      "metadata": {
        "id": "s-qCpNUFsf79"
      },
      "source": [
        "## Answers\n",
        "\n",
        "|      Statistic       |              Value |\n",
        "| :------------------: | -----------------: |\n",
        "|         Mean         |        3305054.675 |\n",
        "|        Median        |          1175000.0 |\n",
        "|         Mode         |        0    414000 |\n",
        "|  Standard deviation  |        4534742.273 |\n",
        "|       Variance       | 20563887478832.742 |\n",
        "|       Skewness       |              2.257 |\n",
        "|       Kurtosis       |              5.723 |\n",
        "|       Minimum        |             414000 |\n",
        "|        Median        |          1175000.0 |\n",
        "|       Maximum        |           32000000 |\n",
        "| Inter Quartile Range |          3875925.0 |\n",
        "|        Range         |           31586000 |\n",
        "\n",
        "| Percentiles  |       Value |\n",
        "| :----------: | ----------: |\n",
        "|     0.00     |    414000.0 |\n",
        "|     0.25     |    430325.0 |\n",
        "|     0.50     |   1175000.0 |\n",
        "|     0.75     |   4306250.0 |\n",
        "|     1.00     |  32000000.0 |\n"
      ]
    }
  ],
  "metadata": {
    "colab": {
      "provenance": []
    },
    "gpuClass": "standard",
    "kernelspec": {
      "display_name": "Python 3",
      "name": "python3"
    },
    "language_info": {
      "name": "python"
    },
    "orig_nbformat": 4
  },
  "nbformat": 4,
  "nbformat_minor": 0
}